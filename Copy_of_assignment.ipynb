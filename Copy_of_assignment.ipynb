{
  "cells": [
    {
      "cell_type": "markdown",
      "metadata": {
        "id": "view-in-github",
        "colab_type": "text"
      },
      "source": [
        "<a href=\"https://colab.research.google.com/github/JuliaPPfeiffer/wrangling/blob/main/Copy_of_assignment.ipynb\" target=\"_parent\"><img src=\"https://colab.research.google.com/assets/colab-badge.svg\" alt=\"Open In Colab\"/></a>"
      ]
    },
    {
      "cell_type": "markdown",
      "id": "13ad028b-72b7-43ed-aa78-96fd4e518040",
      "metadata": {
        "id": "13ad028b-72b7-43ed-aa78-96fd4e518040"
      },
      "source": [
        "# Assignment: Data Wrangling\n",
        "## `! git clone https://github.com/DS3001/wrangling`\n",
        "## Do Q2, and one of Q1 or Q3."
      ]
    },
    {
      "cell_type": "markdown",
      "id": "5735a4d4-8be8-433a-a351-70eb8002e632",
      "metadata": {
        "id": "5735a4d4-8be8-433a-a351-70eb8002e632"
      },
      "source": [
        "**Q1.** Open the \"tidy_data.pdf\" document in the repo, which is a paper called Tidy Data by Hadley Wickham.\n",
        "\n",
        "  1. Read the abstract. What is this paper about?\n",
        "\n",
        "**This paper addresses the lack of research in efficient data cleaning by discussing the usefulness of tidying datasets. The specific structure of tidy datasets- in which each variable is a column, each observation is a row, and each type of observational unit is a table- makes it easier to clean, manipulate, and analyze data.**\n",
        "\n",
        "  2. Read the introduction. What is the \"tidy data standard\" intended to accomplish?\n",
        "\n",
        "  **The purpose of tidy data is to standardize the organization of datasets in a way that optimizes the data cleaning process.**\n",
        "\n",
        "  3. Read the intro to section 2. What does this sentence mean: \"Like families, tidy datasets are all alike but every messy dataset is messy in its own way.\" What does this sentence mean: \"For a given dataset, it’s usually easy to figure out what are observations and what are variables, but it is surprisingly difficult to precisely define variables and observations in general.\"\n",
        "\n",
        "  **Tidy datasets are alike because they all have a standardized organization, while the issues of messy datasets are distinct because the person that recorded the data did it in a way that's specific to their goal in collecting it. It is extremely difficult to define what exactly a 'variable' is in general due to the variety of domains or subject areas that data is collected for. However, observations are easier to define in a given dataset because it's a choice by the person creating the dataset on what that variable represents.**\n",
        "\n",
        "  4. Read Section 2.2. How does Wickham define values, variables, and observations?\n",
        "\n",
        "  **Values are qualitative or quantitative pieces of information, variables contain  values measuring the same attribute, and observations contain values that measure it across attributes.**\n",
        "\n",
        "  5. How is \"Tidy Data\" defined in section 2.3?\n",
        "\n",
        "  **Tidy data is one way to standardize the organization of a dataset in a way that the structure itself indicates its meaning, with each row representing an observation, each column representing a variable, and all observational units forming a table.**\n",
        "\n",
        "  6. Read the intro to Section 3 and Section 3.1. What are the 5 most common problems with messy datasets? Why are the data in Table 4 messy? What is \"melting\" a dataset?\n",
        "\n",
        "  **The five most common issues with messy datasets include having values in the column headers instead of variable names, multiple variables being stored in one column, variables being stored in rows and columns, multiple types of observational units being stored in the same table, and a single observational unit being stored in multiple tables. The data in Table 4 are messy due to the column headers being numeric values instead of variable names. A solution to this issue would be 'melting' the dataset, which means turning the columns into rows.**\n",
        "\n",
        "  7. Why, specifically, is table 11 messy but table 12 tidy and \"molten\"?\n",
        "\n",
        "  **Table 11 is messy because there are values stored in the column header instead of variable names. Table 12 (a) is molten because it took those values from the columns and turned them into rows, however one of the columns only contain the names of variables rather than values. The tidy dataset in Table 12 (b) has each row representing every observational unit, instead of variable names.**\n",
        "\n",
        "  8. Read Section 6. What is the \"chicken-and-egg\" problem with focusing on tidy data? What does Wickham hope happens in the future with further work on the subject of data wrangling?\n",
        "\n",
        "  **The tools that work with tidy data cannot be separated from the tidy data framework, making it hard for these tools to actually improve the data cleaning process as a whole. Wickham hopes that others will build on this framework or come up with new sets of tools to clean data more efficiently.**"
      ]
    },
    {
      "cell_type": "markdown",
      "id": "da879ea7-8aac-48a3-b6c2-daea56d2e072",
      "metadata": {
        "id": "da879ea7-8aac-48a3-b6c2-daea56d2e072"
      },
      "source": [
        "**Q2.** This question provides some practice cleaning variables which have common problems.\n",
        "1. Numeric variable: For `./data/airbnb_hw.csv`, clean the `Price` variable as well as you can, and explain the choices you make. How many missing values do you end up with? (Hint: What happens to the formatting when a price goes over 999 dollars, say from 675 to 1,112?)\n",
        "2. Categorical variable: For the `./data/sharks.csv` data covered in the lecture, clean the \"Type\" variable as well as you can, and explain the choices you make.\n",
        "3. Dummy variable: For the pretrial data covered in the lecture, clean the `WhetherDefendantWasReleasedPretrial` variable as well as you can, and, in particular, replace missing values with `np.nan`.\n",
        "4. Missing values, not at random: For the pretrial data covered in the lecture, clean the `ImposedSentenceAllChargeInContactEvent` variable as well as you can, and explain the choices you make. (Hint: Look at the `SentenceTypeAllChargesAtConvictionInContactEvent` variable.)"
      ]
    },
    {
      "cell_type": "code",
      "source": [
        "from google.colab import drive\n",
        "drive.mount('/content/drive')"
      ],
      "metadata": {
        "colab": {
          "base_uri": "https://localhost:8080/"
        },
        "id": "DYwR2uU7PdjT",
        "outputId": "3914555b-7c31-49ab-bf84-0a52391ed459"
      },
      "id": "DYwR2uU7PdjT",
      "execution_count": null,
      "outputs": [
        {
          "output_type": "stream",
          "name": "stdout",
          "text": [
            "Drive already mounted at /content/drive; to attempt to forcibly remount, call drive.mount(\"/content/drive\", force_remount=True).\n"
          ]
        }
      ]
    },
    {
      "cell_type": "code",
      "source": [
        "# Q2- 1.\n",
        "import pandas as pd\n",
        "import numpy as np\n",
        "import seaborn as sns\n",
        "\n",
        "# Loaded the data into Colab from Drive & observed the data\n",
        "path = '/content/drive/MyDrive/SEM 7/DS 3001/airbnb_hw.csv'\n",
        "df = pd.read_csv(path, low_memory=False)\n",
        "print(df.shape, '\\n')\n",
        "df.head()\n",
        "price = df['Price']\n",
        "# replaced commas with nothing\n",
        "price = price.str.replace(',','')\n",
        "# turned datatype of price to numeric\n",
        "price = pd.to_numeric(price,errors='coerce')\n",
        "# Final display of unique values under 'price' variable-\n",
        "print( price.unique() , '\\n')\n",
        "# Total missing values: 0\n",
        "print( 'Total missing: ', sum( price.isnull() ) )"
      ],
      "metadata": {
        "id": "52tYr0G1Kzor"
      },
      "id": "52tYr0G1Kzor",
      "execution_count": null,
      "outputs": []
    },
    {
      "cell_type": "code",
      "source": [
        "# Q2- 2.\n",
        "import pandas as pd\n",
        "import numpy as np\n",
        "import seaborn as sns\n",
        "\n",
        "# Loading in the data and explored the variable 'Type'\n",
        "path = '/content/drive/MyDrive/SEM 7/DS 3001/sharks.csv'\n",
        "df = pd.read_csv(path, low_memory=False)\n",
        "print(df.shape, '\\n')\n",
        "df.head()\n",
        "# Created a temporary vector of values:\n",
        "type = df['Type']\n",
        "type.value_counts()\n",
        "# Since there were a lot of related or similar activities, I grouped them together into broader categories:\n",
        "type = type.replace(['Sea Disaster', 'Boat','Boating','Boatomg'],'Watercraft') # Combined all of these values into a single 'Watercraft' value\n",
        "type = type.replace(['Invalid', 'Questionable','Unconfirmed','Unverified','Under investigation'],np.nan) # Removed these values because they are N/A\n",
        "type.value_counts()\n",
        "# Replace the 'Type' variable with the cleaned version and get rid of temproary vector\n",
        "df['Type'] = type\n",
        "del type\n",
        "df['Type'].value_counts() # Final cleaned values under 'Type'"
      ],
      "metadata": {
        "id": "9CGhMsvLVD8r"
      },
      "id": "9CGhMsvLVD8r",
      "execution_count": null,
      "outputs": []
    },
    {
      "cell_type": "code",
      "source": [
        "# Q2- 3.\n",
        "import pandas as pd\n",
        "path = '/content/drive/MyDrive/SEM 7/DS 3001/VirginiaPretrialData2017.csv'\n",
        "df = pd.read_csv(path, low_memory=False)\n",
        "\n",
        "# create vector for variable\n",
        "pretrial = df['WhetherDefendantWasReleasedPretrial']\n",
        "# print(pretrial.unique(),'\\n')\n",
        "# print(pretrial.value_counts(),'\\n')\n",
        "\n",
        "# replace missing values within vector\n",
        "pretrial = pretrial.replace(9, np.nan)\n",
        "print(pretrial.unique(),'\\n')\n",
        "print(pretrial.value_counts(),'\\n')\n",
        "\n",
        "# replace variable w/ cleaned version & delete vector\n",
        "df['WhetherDefendantWasReleasedPretrial'] = pretrial\n",
        "del pretrial\n",
        "df['WhetherDefendantWasReleasedPretrial'].value_counts()"
      ],
      "metadata": {
        "colab": {
          "base_uri": "https://localhost:8080/",
          "height": 332
        },
        "collapsed": true,
        "id": "jt6Hs4rPbXo-",
        "outputId": "139be241-42ff-4daf-f0b5-ebf60fdfcf9e"
      },
      "id": "jt6Hs4rPbXo-",
      "execution_count": null,
      "outputs": [
        {
          "output_type": "stream",
          "name": "stdout",
          "text": [
            "[nan  0.  1.] \n",
            "\n",
            "WhetherDefendantWasReleasedPretrial\n",
            "1.0    19154\n",
            "0.0     3801\n",
            "Name: count, dtype: int64 \n",
            "\n"
          ]
        },
        {
          "output_type": "execute_result",
          "data": {
            "text/plain": [
              "WhetherDefendantWasReleasedPretrial\n",
              "1.0    19154\n",
              "0.0     3801\n",
              "Name: count, dtype: int64"
            ],
            "text/html": [
              "<div>\n",
              "<style scoped>\n",
              "    .dataframe tbody tr th:only-of-type {\n",
              "        vertical-align: middle;\n",
              "    }\n",
              "\n",
              "    .dataframe tbody tr th {\n",
              "        vertical-align: top;\n",
              "    }\n",
              "\n",
              "    .dataframe thead th {\n",
              "        text-align: right;\n",
              "    }\n",
              "</style>\n",
              "<table border=\"1\" class=\"dataframe\">\n",
              "  <thead>\n",
              "    <tr style=\"text-align: right;\">\n",
              "      <th></th>\n",
              "      <th>count</th>\n",
              "    </tr>\n",
              "    <tr>\n",
              "      <th>WhetherDefendantWasReleasedPretrial</th>\n",
              "      <th></th>\n",
              "    </tr>\n",
              "  </thead>\n",
              "  <tbody>\n",
              "    <tr>\n",
              "      <th>1.0</th>\n",
              "      <td>19154</td>\n",
              "    </tr>\n",
              "    <tr>\n",
              "      <th>0.0</th>\n",
              "      <td>3801</td>\n",
              "    </tr>\n",
              "  </tbody>\n",
              "</table>\n",
              "</div><br><label><b>dtype:</b> int64</label>"
            ]
          },
          "metadata": {},
          "execution_count": 25
        }
      ]
    },
    {
      "cell_type": "code",
      "source": [
        "# pretrial data\n",
        "  # 1. clean the ImposedSentenceAllChargeInContactEvent variable and explain choices\n",
        "  # hint: SentenceTypeAllChargesAtConvictionInContactEvent\n",
        "\n",
        "import pandas as pd\n",
        "path = '/content/drive/MyDrive/SEM 7/DS 3001/VirginiaPretrialData2017.csv'\n",
        "df = pd.read_csv(path, low_memory=False)\n",
        "\n",
        "# Looking at sentence type and length\n",
        "SenType = df['SentenceTypeAllChargesAtConvictionInContactEvent']\n",
        "# print(SenType.unique(),'\\n')\n",
        "# print(SenType.value_counts(),'\\n')\n",
        "ImposedSen = df['ImposedSentenceAllChargeInContactEvent']\n",
        "# print(ImposedSen.unique(),'\\n')\n",
        "# print(ImposedSen.value_counts(),'\\n')\n",
        "\n",
        "# See how many missing values\n",
        "ImposedSen = pd.to_numeric(ImposedSen,errors='coerce')\n",
        "# ImposedSen_NA = ImposedSen.isnull()\n",
        "# print(ImposedSen_NA.unique(),'\\n')\n",
        "# print(ImposedSen_NA.value_counts(),'\\n')\n",
        "\n",
        "# combine variables into one\n",
        "print( pd.crosstab(ImposedSen, SenType), '\\n')\n",
        "\n",
        "# replace dismissed charges with probation/no incarceration\n",
        "ImposedSen = ImposedSen.replace(4, 0)\n",
        "\n",
        "# replace 'not applicable' cases with np.nan\n",
        "ImposedSen = ImposedSen.replace(9, np.nan)\n",
        "\n",
        "# create missing dummy\n",
        "ImposedSen_NA = ImposedSen.isnull()\n",
        "# print(ImposedSen_NA.unique(),'\\n')\n",
        "# print(ImposedSen_NA.value_counts(),'\\n')\n",
        "print(pd.crosstab(ImposedSen_NA, SenType),'\\n')\n",
        "print(np.sum(ImposedSen_NA),'\\n')\n",
        "\n",
        "# replace with cleaned version\n",
        "df['ImposedSentenceAllChargeInContactEvent'] = ImposedSen\n",
        "del ImposedSen, SenType\n",
        "df['ImposedSentenceAllChargeInContactEvent'].value_counts()"
      ],
      "metadata": {
        "colab": {
          "base_uri": "https://localhost:8080/",
          "height": 875
        },
        "collapsed": true,
        "id": "lHa4stVmzkHB",
        "outputId": "58740524-ce3b-4424-ba9d-5ad576ca9e35"
      },
      "id": "lHa4stVmzkHB",
      "execution_count": null,
      "outputs": [
        {
          "output_type": "stream",
          "name": "stdout",
          "text": [
            "SentenceTypeAllChargesAtConvictionInContactEvent     0   1  2\n",
            "ImposedSentenceAllChargeInContactEvent                       \n",
            "0.000000                                          4953   0  0\n",
            "0.032854                                             0   6  0\n",
            "0.065708                                             3  21  0\n",
            "0.098563                                             2   6  0\n",
            "0.131417                                             4  10  0\n",
            "...                                                ...  .. ..\n",
            "1200.000000                                          0   0  1\n",
            "1500.000000                                          0   0  1\n",
            "1752.000000                                          0   0  1\n",
            "1980.000000                                          0   0  1\n",
            "2208.000000                                          0   0  1\n",
            "\n",
            "[483 rows x 3 columns] \n",
            "\n",
            "SentenceTypeAllChargesAtConvictionInContactEvent     0     1    2     4    9\n",
            "ImposedSentenceAllChargeInContactEvent                                      \n",
            "False                                             8713  4253  914     0    0\n",
            "True                                                 7    46    0  8779  274 \n",
            "\n",
            "9106 \n",
            "\n"
          ]
        },
        {
          "output_type": "execute_result",
          "data": {
            "text/plain": [
              "ImposedSentenceAllChargeInContactEvent\n",
              "0.000000     5047\n",
              "12.000000    1404\n",
              "0.985626     1051\n",
              "6.000000      809\n",
              "3.000000      787\n",
              "             ... \n",
              "49.971253       1\n",
              "57.034908       1\n",
              "79.926078       1\n",
              "42.164271       1\n",
              "1.657084        1\n",
              "Name: count, Length: 481, dtype: int64"
            ],
            "text/html": [
              "<div>\n",
              "<style scoped>\n",
              "    .dataframe tbody tr th:only-of-type {\n",
              "        vertical-align: middle;\n",
              "    }\n",
              "\n",
              "    .dataframe tbody tr th {\n",
              "        vertical-align: top;\n",
              "    }\n",
              "\n",
              "    .dataframe thead th {\n",
              "        text-align: right;\n",
              "    }\n",
              "</style>\n",
              "<table border=\"1\" class=\"dataframe\">\n",
              "  <thead>\n",
              "    <tr style=\"text-align: right;\">\n",
              "      <th></th>\n",
              "      <th>count</th>\n",
              "    </tr>\n",
              "    <tr>\n",
              "      <th>ImposedSentenceAllChargeInContactEvent</th>\n",
              "      <th></th>\n",
              "    </tr>\n",
              "  </thead>\n",
              "  <tbody>\n",
              "    <tr>\n",
              "      <th>0.000000</th>\n",
              "      <td>5047</td>\n",
              "    </tr>\n",
              "    <tr>\n",
              "      <th>12.000000</th>\n",
              "      <td>1404</td>\n",
              "    </tr>\n",
              "    <tr>\n",
              "      <th>0.985626</th>\n",
              "      <td>1051</td>\n",
              "    </tr>\n",
              "    <tr>\n",
              "      <th>6.000000</th>\n",
              "      <td>809</td>\n",
              "    </tr>\n",
              "    <tr>\n",
              "      <th>3.000000</th>\n",
              "      <td>787</td>\n",
              "    </tr>\n",
              "    <tr>\n",
              "      <th>...</th>\n",
              "      <td>...</td>\n",
              "    </tr>\n",
              "    <tr>\n",
              "      <th>49.971253</th>\n",
              "      <td>1</td>\n",
              "    </tr>\n",
              "    <tr>\n",
              "      <th>57.034908</th>\n",
              "      <td>1</td>\n",
              "    </tr>\n",
              "    <tr>\n",
              "      <th>79.926078</th>\n",
              "      <td>1</td>\n",
              "    </tr>\n",
              "    <tr>\n",
              "      <th>42.164271</th>\n",
              "      <td>1</td>\n",
              "    </tr>\n",
              "    <tr>\n",
              "      <th>1.657084</th>\n",
              "      <td>1</td>\n",
              "    </tr>\n",
              "  </tbody>\n",
              "</table>\n",
              "<p>481 rows × 1 columns</p>\n",
              "</div><br><label><b>dtype:</b> int64</label>"
            ]
          },
          "metadata": {},
          "execution_count": 42
        }
      ]
    },
    {
      "cell_type": "markdown",
      "id": "649494cd-cfd6-4f80-992a-9994fc19e1d5",
      "metadata": {
        "id": "649494cd-cfd6-4f80-992a-9994fc19e1d5"
      },
      "source": [
        "**Q3.** Many important datasets contain a race variable, typically limited to a handful of values often including Black, White, Asian, Latino, and Indigenous. This question looks at data gathering efforts on this variable by the U.S. Federal government.\n",
        "\n",
        "1. How did the most recent US Census gather data on race?\n",
        "2. Why do we gather these data? What role do these kinds of data play in politics and society? Why does data quality matter?\n",
        "3. Please provide a constructive criticism of how the Census was conducted: What was done well? What do you think was missing? How should future large scale surveys be adjusted to best reflect the diversity of the population? Could some of the Census' good practices be adopted more widely to gather richer and more useful data?\n",
        "4. How did the Census gather data on sex and gender? Please provide a similar constructive criticism of their practices.\n",
        "5. When it comes to cleaning data, what concerns do you have about protected characteristics like sex, gender, sexual identity, or race? What challenges can you imagine arising when there are missing values? What good or bad practices might people adopt, and why?\n",
        "6. Suppose someone invented an algorithm to impute values for protected characteristics like race, gender, sex, or sexuality. What kinds of concerns would you have?"
      ]
    }
  ],
  "metadata": {
    "colab": {
      "provenance": [],
      "include_colab_link": true
    },
    "kernelspec": {
      "display_name": "Python 3 (ipykernel)",
      "language": "python",
      "name": "python3"
    },
    "language_info": {
      "codemirror_mode": {
        "name": "ipython",
        "version": 3
      },
      "file_extension": ".py",
      "mimetype": "text/x-python",
      "name": "python",
      "nbconvert_exporter": "python",
      "pygments_lexer": "ipython3",
      "version": "3.10.4"
    }
  },
  "nbformat": 4,
  "nbformat_minor": 5
}